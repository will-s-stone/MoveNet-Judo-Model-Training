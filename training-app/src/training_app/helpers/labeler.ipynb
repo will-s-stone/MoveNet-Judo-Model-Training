{
 "cells": [
  {
   "cell_type": "code",
   "id": "initial_id",
   "metadata": {
    "collapsed": true,
    "ExecuteTime": {
     "end_time": "2024-08-08T01:52:43.297465Z",
     "start_time": "2024-08-08T01:52:42.529995Z"
    }
   },
   "source": [
    "import cv2\n",
    "import os"
   ],
   "outputs": [],
   "execution_count": 1
  },
  {
   "metadata": {
    "ExecuteTime": {
     "end_time": "2024-08-08T01:55:19.987897Z",
     "start_time": "2024-08-08T01:55:19.979188Z"
    }
   },
   "cell_type": "code",
   "source": [
    "def extract_frames(video_path, output_dir):\n",
    "    if not os.path.exists(output_dir):\n",
    "        os.makedirs(output_dir)\n",
    "    cap = cv2.VideoCapture(video_path)\n",
    "    count = 0\n",
    "    while cap.isOpened():\n",
    "        ret, frame = cap.read()\n",
    "        if not ret:\n",
    "            break\n",
    "        cv2.imwrite(os.path.join(output_dir, f'frame_{count:04d}.jpg'), frame)\n",
    "        count += 1\n",
    "    cap.release()"
   ],
   "id": "3551ede077d7d673",
   "outputs": [],
   "execution_count": 2
  },
  {
   "metadata": {},
   "cell_type": "code",
   "outputs": [],
   "execution_count": null,
   "source": [
    "# Import TF and TF Hub libraries.\n",
    "import tensorflow as tf\n",
    "import tensorflow_hub as hub\n",
    "\n",
    "# Load the input image.\n",
    "image_path = 'PATH_TO_YOUR_IMAGE'\n",
    "image = tf.io.read_file(image_path)\n",
    "image = tf.compat.v1.image.decode_jpeg(image)\n",
    "image = tf.expand_dims(image, axis=0)\n",
    "# Resize and pad the image to keep the aspect ratio and fit the expected size.\n",
    "image = tf.cast(tf.image.resize_with_pad(image, 256, 256), dtype=tf.int32)\n",
    "\n",
    "# Download the model from TF Hub.\n",
    "model = hub.load(\"https://www.kaggle.com/models/google/movenet/TensorFlow2/multipose-lightning/1\")\n",
    "movenet = model.signatures['serving_default']\n",
    "\n",
    "# Run model inference.\n",
    "outputs = movenet(image)\n",
    "# Output is a [1, 6, 56] tensor.\n",
    "keypoints = outputs['output_0']\n"
   ],
   "id": "b21251596131a28f"
  }
 ],
 "metadata": {
  "kernelspec": {
   "display_name": "Python 3",
   "language": "python",
   "name": "python3"
  },
  "language_info": {
   "codemirror_mode": {
    "name": "ipython",
    "version": 2
   },
   "file_extension": ".py",
   "mimetype": "text/x-python",
   "name": "python",
   "nbconvert_exporter": "python",
   "pygments_lexer": "ipython2",
   "version": "2.7.6"
  }
 },
 "nbformat": 4,
 "nbformat_minor": 5
}
