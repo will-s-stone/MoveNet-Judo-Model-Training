{
 "cells": [
  {
   "cell_type": "code",
   "execution_count": null,
   "id": "bc6654471c67a641",
   "metadata": {
    "collapsed": true
   },
   "outputs": [],
   "source": "# The purpose of this notebook is to be the spot to train my LSTM. Refer to labeler.ipynb for tagging of training data."
  },
  {
   "metadata": {},
   "cell_type": "code",
   "outputs": [],
   "execution_count": null,
   "source": [
    "\n",
    "import tensorflow as tf\n",
    "import tensorflow_hub as hub\n"
   ],
   "id": "initial_id"
  }
 ],
 "metadata": {
  "kernelspec": {
   "display_name": "Python 3",
   "language": "python",
   "name": "python3"
  },
  "language_info": {
   "codemirror_mode": {
    "name": "ipython",
    "version": 2
   },
   "file_extension": ".py",
   "mimetype": "text/x-python",
   "name": "python",
   "nbconvert_exporter": "python",
   "pygments_lexer": "ipython2",
   "version": "2.7.6"
  }
 },
 "nbformat": 4,
 "nbformat_minor": 5
}
