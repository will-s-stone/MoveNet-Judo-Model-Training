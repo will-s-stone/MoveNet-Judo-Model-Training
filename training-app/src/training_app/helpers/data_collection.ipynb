{
 "cells": [
  {
   "cell_type": "code",
   "id": "initial_id",
   "metadata": {
    "collapsed": true,
    "ExecuteTime": {
     "end_time": "2024-09-10T01:36:05.771652Z",
     "start_time": "2024-09-10T01:36:05.765012Z"
    }
   },
   "source": [
    "import numpy as np\n",
    "import os\n"
   ],
   "outputs": [],
   "execution_count": 3
  },
  {
   "metadata": {
    "ExecuteTime": {
     "end_time": "2024-09-10T01:41:35.111901Z",
     "start_time": "2024-09-10T01:41:35.101526Z"
    }
   },
   "cell_type": "code",
   "source": [
    "DATA_PATH = os.path.join('MP_DATA')\n",
    "\n",
    "#Throws that we are trying to detect\n",
    "actions = np.array(['hello', 'thanks', 'love'])\n",
    "# 30 videos worth of data\n",
    "no_sequences = 30\n",
    "# Number of frames, should adjust accordingly\n",
    "sequence_length = 120\n"
   ],
   "id": "ac250ab03721555",
   "outputs": [],
   "execution_count": null
  },
  {
   "metadata": {},
   "cell_type": "code",
   "outputs": [],
   "execution_count": 4,
   "source": "#The code below will store \n",
   "id": "445fce74908c5915"
  },
  {
   "metadata": {
    "ExecuteTime": {
     "end_time": "2024-09-10T01:45:36.066671Z",
     "start_time": "2024-09-10T01:45:36.033160Z"
    }
   },
   "cell_type": "code",
   "source": [
    "for action in actions:\n",
    "    for sequence in range(no_sequences):\n",
    "        try:\n",
    "            os.makedirs(os.path.join(DATA_PATH, action, str(sequence)))\n",
    "        except:\n",
    "            pass\n",
    "        "
   ],
   "id": "e859b95d6969f5f5",
   "outputs": [],
   "execution_count": 5
  },
  {
   "metadata": {},
   "cell_type": "code",
   "outputs": [],
   "execution_count": null,
   "source": "",
   "id": "6400b1f67bca0db8"
  }
 ],
 "metadata": {
  "kernelspec": {
   "display_name": "Python 3",
   "language": "python",
   "name": "python3"
  },
  "language_info": {
   "codemirror_mode": {
    "name": "ipython",
    "version": 2
   },
   "file_extension": ".py",
   "mimetype": "text/x-python",
   "name": "python",
   "nbconvert_exporter": "python",
   "pygments_lexer": "ipython2",
   "version": "2.7.6"
  }
 },
 "nbformat": 4,
 "nbformat_minor": 5
}
